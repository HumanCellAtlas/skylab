{
 "cells": [
  {
   "cell_type": "code",
   "execution_count": 11,
   "metadata": {},
   "outputs": [],
   "source": [
    "import json\n",
    "import os\n",
    "from os.path import basename\n",
    "from google.cloud import storage"
   ]
  },
  {
   "cell_type": "markdown",
   "metadata": {},
   "source": [
    "# Test HISAT2\n",
    "\n",
    "-  Check reference build by `hisat2-inspect`\n",
    "-  Check HISAT2 PE alignemnt\n",
    "-  Check HISAT2 SE alignment\n",
    "\n",
    "First load metadata.json data. "
   ]
  },
  {
   "cell_type": "code",
   "execution_count": 3,
   "metadata": {},
   "outputs": [],
   "source": [
    "with open(os.path.expanduser('/Users/jishuxu/Documents/metadata.json')) as f:\n",
    "    metadata=json.load(f)"
   ]
  },
  {
   "cell_type": "markdown",
   "metadata": {},
   "source": [
    "Print out `outputs` from each task"
   ]
  },
  {
   "cell_type": "code",
   "execution_count": 14,
   "metadata": {},
   "outputs": [
    {
     "data": {
      "text/plain": [
       "{'test_hisat2.bamfile_pe': 'gs://broad-dsde-mint-dev-cromwell-execution/cromwell-executions/test_hisat2/05f09e22-eb55-400f-8095-9dc2bc2e992f/call-test_hisat2_pe/SRR1295364_gencode.bam',\n",
       " 'test_hisat2.bamfile_se': 'gs://broad-dsde-mint-dev-cromwell-execution/cromwell-executions/test_hisat2/05f09e22-eb55-400f-8095-9dc2bc2e992f/call-test_hisat2_se/SRR1295364_gencode.bam',\n",
       " 'test_hisat2.inspectlog': 'gs://broad-dsde-mint-dev-cromwell-execution/cromwell-executions/test_hisat2/05f09e22-eb55-400f-8095-9dc2bc2e992f/call-test_hisat2_inspect/hisat2_inspect.log',\n",
       " 'test_hisat2.logFile_pe': 'gs://broad-dsde-mint-dev-cromwell-execution/cromwell-executions/test_hisat2/05f09e22-eb55-400f-8095-9dc2bc2e992f/call-test_hisat2_pe/SRR1295364_gencode.log',\n",
       " 'test_hisat2.logFile_se': 'gs://broad-dsde-mint-dev-cromwell-execution/cromwell-executions/test_hisat2/05f09e22-eb55-400f-8095-9dc2bc2e992f/call-test_hisat2_se/SRR1295364_gencode.log',\n",
       " 'test_hisat2.metfile_pe': 'gs://broad-dsde-mint-dev-cromwell-execution/cromwell-executions/test_hisat2/05f09e22-eb55-400f-8095-9dc2bc2e992f/call-test_hisat2_pe/SRR1295364_gencode.hisat2.met.txt',\n",
       " 'test_hisat2.metfile_se': 'gs://broad-dsde-mint-dev-cromwell-execution/cromwell-executions/test_hisat2/05f09e22-eb55-400f-8095-9dc2bc2e992f/call-test_hisat2_se/SRR1295364_gencode.hisat2.met.txt'}"
      ]
     },
     "execution_count": 14,
     "metadata": {},
     "output_type": "execute_result"
    }
   ],
   "source": [
    "metadata['outputs']"
   ]
  },
  {
   "cell_type": "markdown",
   "metadata": {},
   "source": [
    "## Inspect Reference Build"
   ]
  },
  {
   "cell_type": "code",
   "execution_count": 8,
   "metadata": {},
   "outputs": [],
   "source": [
    "client = storage.Client()\n",
    "bucket=client.get_bucket('broad-dsde-mint-dev-cromwell-execution')"
   ]
  },
  {
   "cell_type": "markdown",
   "metadata": {},
   "source": [
    "Either download to a local file or use gsutil to view the log file. The command `hisat2-inspect` should inspect the reference index, in term of sequencing name(chrm), exon, snp and splicing site. "
   ]
  },
  {
   "cell_type": "code",
   "execution_count": 15,
   "metadata": {},
   "outputs": [],
   "source": [
    "fn = \"cromwell-executions/test_hisat2/05f09e22-eb55-400f-8095-9dc2bc2e992f/call-test_hisat2_inspect/hisat2_inspect.log\"\n",
    "blob=bucket.get_blob(fn)\n",
    "bname=basename(fn)\n",
    "with open('/Users/jishuxu/Documents/'+bname,'wb') as file_obj:\n",
    "    blob.download_to_file(file_obj)"
   ]
  },
  {
   "cell_type": "markdown",
   "metadata": {},
   "source": [
    "Or just use gsutil and print out the last lines of the log files. If the `hisat2-build` works correctly, we should see SNPs, Splice and Exon summary in this log."
   ]
  },
  {
   "cell_type": "code",
   "execution_count": 1,
   "metadata": {},
   "outputs": [
    {
     "name": "stdout",
     "output_type": "stream",
     "text": [
      "Sequence-188\tKI270751.1 KI270751.1\t150742\n",
      "Sequence-189\tKI270752.1 KI270752.1\t27745\n",
      "Sequence-190\tKI270753.1 KI270753.1\t62944\n",
      "Sequence-191\tKI270754.1 KI270754.1\t40191\n",
      "Sequence-192\tKI270755.1 KI270755.1\t36723\n",
      "Sequence-193\tKI270756.1 KI270756.1\t79590\n",
      "Sequence-194\tKI270757.1 KI270757.1\t71251\n",
      "Num. SNPs: 15627960\n",
      "Num. Splice Sites: 352711\n",
      "Num. Exons: 309678\n"
     ]
    }
   ],
   "source": [
    "gsutil cat gs://broad-dsde-mint-dev-cromwell-execution/cromwell-executions/test_hisat2/05f09e22-eb55-400f-8095-9dc2bc2e992f/call-test_hisat2_inspect/hisat2_inspect.log |tail -n 10"
   ]
  },
  {
   "cell_type": "markdown",
   "metadata": {},
   "source": [
    "## HISAT2 PE"
   ]
  },
  {
   "cell_type": "code",
   "execution_count": 1,
   "metadata": {},
   "outputs": [
    {
     "name": "stdout",
     "output_type": "stream",
     "text": [
      "HISAT2 summary stats:\n",
      "\tTotal pairs: 3646570\n",
      "\t\tAligned concordantly or discordantly 0 time: 686533 (18.83%)\n",
      "\t\tAligned concordantly 1 time: 2387581 (65.47%)\n",
      "\t\tAligned concordantly >1 times: 528055 (14.48%)\n",
      "\t\tAligned discordantly 1 time: 44401 (1.22%)\n",
      "\tTotal unpaired reads: 1373066\n",
      "\t\tAligned 0 time: 736133 (53.61%)\n",
      "\t\tAligned 1 time: 390563 (28.44%)\n",
      "\t\tAligned >1 times: 246370 (17.94%)\n",
      "\tOverall alignment rate: 89.91%\n"
     ]
    }
   ],
   "source": [
    "gsutil cat gs://broad-dsde-mint-dev-cromwell-execution/cromwell-executions/test_hisat2/05f09e22-eb55-400f-8095-9dc2bc2e992f/call-test_hisat2_pe/SRR1295364_gencode.log"
   ]
  },
  {
   "cell_type": "markdown",
   "metadata": {},
   "source": [
    "## HISAT2 SE"
   ]
  },
  {
   "cell_type": "code",
   "execution_count": 2,
   "metadata": {},
   "outputs": [
    {
     "name": "stdout",
     "output_type": "stream",
     "text": [
      "HISAT2 summary stats:\n",
      "\tTotal reads: 3646570\n",
      "\t\tAligned 0 time: 436838 (11.98%)\n",
      "\t\tAligned 1 time: 2184367 (59.90%)\n",
      "\t\tAligned >1 times: 1025365 (28.12%)\n",
      "\tOverall alignment rate: 88.02%\n"
     ]
    }
   ],
   "source": [
    "gsutil cat gs://broad-dsde-mint-dev-cromwell-execution/cromwell-executions/test_hisat2/05f09e22-eb55-400f-8095-9dc2bc2e992f/call-test_hisat2_se/SRR1295364_gencode.log"
   ]
  },
  {
   "cell_type": "code",
   "execution_count": null,
   "metadata": {},
   "outputs": [],
   "source": []
  }
 ],
 "metadata": {
  "kernelspec": {
   "display_name": "Bash",
   "language": "bash",
   "name": "bash"
  },
  "language_info": {
   "codemirror_mode": "shell",
   "file_extension": ".sh",
   "mimetype": "text/x-sh",
   "name": "bash"
  }
 },
 "nbformat": 4,
 "nbformat_minor": 2
}
