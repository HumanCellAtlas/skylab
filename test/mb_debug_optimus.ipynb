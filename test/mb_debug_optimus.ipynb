{
 "cells": [
  {
   "cell_type": "code",
   "execution_count": 287,
   "metadata": {},
   "outputs": [],
   "source": [
    "%matplotlib inline\n",
    "\n",
    "import pysam\n",
    "import itertools\n",
    "import numpy as np\n",
    "import scipy.sparse as sp\n",
    "import matplotlib.pylab as plt\n",
    "import pandas as pd\n",
    "import natsort\n",
    "import os\n",
    "from collections import namedtuple\n",
    "from collections import Counter\n",
    "import distance\n",
    "\n",
    "from typing import List, Set, Tuple"
   ]
  },
  {
   "cell_type": "code",
   "execution_count": 150,
   "metadata": {},
   "outputs": [],
   "source": [
    "def alignments_grouped_by_read_name_generator(bam_file: pysam.libcalignmentfile.AlignmentFile):\n",
    "    \"\"\"Iterates through a read-name-sorted BAM file and groups all alignments of a read.\n",
    "    \n",
    "    Returns:\n",
    "        a tuple of read-name and a list of its alignments\n",
    "    \"\"\"\n",
    "    bam_file.reset()\n",
    "    for alignment in itertools.groupby(bam_file, key=lambda alignment: alignment.query_name):\n",
    "        read_name = alignment[0]\n",
    "        grouper = alignment[1]\n",
    "        alignments = []\n",
    "        try:\n",
    "            while True:\n",
    "                alignment = grouper.__next__()\n",
    "                alignments.append(alignment)\n",
    "        except StopIteration:\n",
    "            pass\n",
    "        yield read_name, alignments"
   ]
  },
  {
   "cell_type": "markdown",
   "metadata": {},
   "source": [
    "## Assert equality of alignments"
   ]
  },
  {
   "cell_type": "code",
   "execution_count": 219,
   "metadata": {},
   "outputs": [],
   "source": [
    "op_bam_file = './optimus/merged.ns.bam'\n",
    "cr_bam_file = './cell_ranger/cellranger.ns.bam'\n",
    "\n",
    "op_bam = pysam.AlignmentFile(op_bam_file)\n",
    "cr_bam = pysam.AlignmentFile(cr_bam_file)"
   ]
  },
  {
   "cell_type": "code",
   "execution_count": 230,
   "metadata": {},
   "outputs": [],
   "source": [
    "bam_record_attributes = namedtuple('bam_record_attributes', 'contig, start, end, cigar, flag')\n",
    "bam_tags = namedtuple('bam_tags', 'CR, UR, CB')\n",
    "\n",
    "def get_barcode_from_record(rec, barcode_tag_key='CR'):\n",
    "    orig_barcode = None\n",
    "    try:\n",
    "        orig_barcode = rec.get_tag(barcode_tag_key)\n",
    "    except:\n",
    "        return None\n",
    "    \n",
    "    # record \"-x\" (for CellRanger)\n",
    "    fixed_barcode = orig_barcode.split('-')[0]\n",
    "    \n",
    "    return fixed_barcode\n",
    "\n",
    "def get_record_attributes(recs: List[pysam.AlignedSegment]) -> List[bam_record_attributes]:\n",
    "    return [bam_record_attributes(\n",
    "        contig=rec.reference_name,\n",
    "        start=rec.reference_start,\n",
    "        end=rec.reference_end,\n",
    "        cigar=rec.cigarstring,\n",
    "        flag=rec.flag) for rec in recs]\n",
    "\n",
    "def get_record_tags(recs: List[pysam.AlignedSegment]) -> List[bam_tags]:\n",
    "    return [bam_tags(\n",
    "        CR=get_barcode_from_record(rec, 'CR'),\n",
    "        UR=get_barcode_from_record(rec, 'UR'),\n",
    "        CB=get_barcode_from_record(rec, 'CB')) for rec in recs]\n",
    "\n",
    "def get_sorted_attributes_tags_list(attr_list, tags_list):\n",
    "    # sort by alignment\n",
    "    sorted_index_attr_list = sorted(\n",
    "        enumerate(attr_list),\n",
    "        key=lambda entry: (entry[1].contig, entry[1].start, entry[1].end, entry[1].cigar))\n",
    "    sort_index = [entry[0] for entry in sorted_index_attr_list]\n",
    "    sorted_attr_list = [entry[1] for entry in sorted_index_attr_list]\n",
    "    sorted_tags_list = [tags_list[j] for j in sort_index]\n",
    "    return sorted_attr_list, sorted_tags_list"
   ]
  },
  {
   "cell_type": "code",
   "execution_count": 234,
   "metadata": {},
   "outputs": [],
   "source": [
    "# instantiate generators for alignements grouped by read-name\n",
    "op_grouped_records_gen = alignments_grouped_by_read_name_generator(op_bam)\n",
    "cr_grouped_records_gen = alignments_grouped_by_read_name_generator(cr_bam)\n",
    "\n",
    "# master list of parsed records (for further analysis)\n",
    "op_master_rec_attr_list = list()\n",
    "cr_master_rec_attr_list = list()\n",
    "op_master_rec_tags_list = list()\n",
    "cr_master_rec_tags_list = list()\n",
    "\n",
    "# indices of discordant records\n",
    "discordant_alignment_indices = list()\n",
    "discordant_flag_indices = list()\n",
    "discordant_CR_indices = list()\n",
    "discordant_UR_indices = list()\n",
    "discordant_CB_indices = list()\n",
    "\n",
    "read_index = 0\n",
    "for (op_read_name, op_recs), (cr_read_name, cr_recs) in zip(op_grouped_records_gen, cr_grouped_records_gen):\n",
    "    assert op_read_name == cr_read_name, \"Different read names\"\n",
    "    assert len(op_recs) == len(cr_recs), \"Different number of alignment positions\"\n",
    "    \n",
    "    op_rec_attr_list = get_record_attributes(op_recs)\n",
    "    cr_rec_attr_list = get_record_attributes(cr_recs)\n",
    "    op_tags_list = get_record_tags(op_recs)\n",
    "    cr_tags_list = get_record_tags(cr_recs)\n",
    "    \n",
    "    # sort by alignment position\n",
    "    sorted_op_rec_attr_list, sorted_op_tags_list = get_sorted_attributes_tags_list(\n",
    "        op_rec_attr_list, op_tags_list)\n",
    "    sorted_cr_rec_attr_list, sorted_cr_tags_list = get_sorted_attributes_tags_list(\n",
    "        cr_rec_attr_list, cr_tags_list)\n",
    "    \n",
    "    # add to the master list\n",
    "    op_master_rec_attr_list.append(sorted_op_rec_attr_list)\n",
    "    cr_master_rec_attr_list.append(sorted_cr_rec_attr_list)\n",
    "    op_master_rec_tags_list.append(sorted_op_tags_list)\n",
    "    cr_master_rec_tags_list.append(sorted_cr_tags_list)\n",
    "    \n",
    "    # discordant records\n",
    "    op_alignments = [(attr.contig, attr.start, attr.end, attr.cigar) for attr in sorted_op_rec_attr_list]\n",
    "    cr_alignments = [(attr.contig, attr.start, attr.end, attr.cigar) for attr in sorted_cr_rec_attr_list]\n",
    "    if op_alignments != cr_alignments:\n",
    "        discordant_alignment_indices.append(read_index)\n",
    "\n",
    "    op_flags = [attr.flag for attr in sorted_op_rec_attr_list]\n",
    "    cr_flags = [attr.flag for attr in sorted_cr_rec_attr_list]\n",
    "    if op_flags != cr_flags:\n",
    "        discordant_flag_indices.append(read_index)\n",
    "\n",
    "    op_CR = [tags.CR for tags in sorted_op_tags_list]\n",
    "    cr_CR = [tags.CR for tags in sorted_cr_tags_list]\n",
    "    if op_CR != cr_CR:\n",
    "        discordant_CR_indices.append(read_index)\n",
    "\n",
    "    op_UR = [tags.UR for tags in sorted_op_tags_list]\n",
    "    cr_UR = [tags.UR for tags in sorted_cr_tags_list]\n",
    "    if op_UR != cr_UR:\n",
    "        discordant_UR_indices.append(read_index)\n",
    "\n",
    "    op_CB = [tags.CB for tags in sorted_op_tags_list]\n",
    "    cr_CB = [tags.CB for tags in sorted_cr_tags_list]\n",
    "    if op_CB != cr_CB:\n",
    "        discordant_CB_indices.append(read_index)\n",
    "\n",
    "    # increment index\n",
    "    read_index += 1    "
   ]
  },
  {
   "cell_type": "code",
   "execution_count": 243,
   "metadata": {},
   "outputs": [
    {
     "name": "stdout",
     "output_type": "stream",
     "text": [
      "number of reads with discordant alignments: 0\n",
      "number of reads with discordant flags: 543424\n",
      "number of reads with discordant CR: 0\n",
      "number of reads with discordant UR: 0\n",
      "number of reads with discordant CB: 2764\n"
     ]
    }
   ],
   "source": [
    "print(f'number of reads with discordant alignments: {len(discordant_alignment_indices)}')\n",
    "print(f'number of reads with discordant flags: {len(discordant_flag_indices)}')\n",
    "print(f'number of reads with discordant CR: {len(discordant_CR_indices)}')\n",
    "print(f'number of reads with discordant UR: {len(discordant_UR_indices)}')\n",
    "print(f'number of reads with discordant CB: {len(discordant_CB_indices)}')"
   ]
  },
  {
   "cell_type": "markdown",
   "metadata": {},
   "source": [
    "## Reads with discordant CB"
   ]
  },
  {
   "cell_type": "code",
   "execution_count": 280,
   "metadata": {},
   "outputs": [],
   "source": [
    "op_missing_CB = 0\n",
    "cr_missing_CB = 0\n",
    "\n",
    "# list of tuples of d(op_CB, op_CR), d(cr_CB, cr_CR), d(op_CB, cr_CB)\n",
    "hamming_distance_tuples = list()\n",
    "implicated_CR_set = set()\n",
    "\n",
    "for idx in discordant_CB_indices:\n",
    "    op_CB_list = list(set(tags.CB for tags in op_master_rec_tags_list[idx]))\n",
    "    cr_CB_list = list(set(tags.CB for tags in cr_master_rec_tags_list[idx]))\n",
    "    assert len(op_CB_list) == 1\n",
    "    assert len(cr_CB_list) == 1\n",
    "    op_CB = op_CB_list[0]\n",
    "    cr_CB = cr_CB_list[0]\n",
    "    \n",
    "    if op_CB is None:\n",
    "        op_missing_CB += 1\n",
    "        continue\n",
    "        \n",
    "    if cr_CB is None:\n",
    "        cr_missing_CB += 1\n",
    "        continue\n",
    "\n",
    "    op_CR = op_master_rec_tags_list[idx][0].CR\n",
    "    cr_CR = cr_master_rec_tags_list[idx][0].CR\n",
    "    \n",
    "    assert op_CR == cr_CR\n",
    "    \n",
    "    implicated_CR_set.add(op_CR)\n",
    "    \n",
    "    op_CB_CR_hamming_dist = distance.hamming(op_CB, op_CR)\n",
    "    cr_CB_CR_hamming_dist = distance.hamming(cr_CB, cr_CR)    \n",
    "    op_cr_CB_CB_hamming_dist = distance.hamming(op_CB, cr_CB)\n",
    "    \n",
    "    hamming_distance_tuples.append((op_CB_CR_hamming_dist, cr_CB_CR_hamming_dist, op_cr_CB_CB_hamming_dist))\n",
    "    \n",
    "op_CB_CR_hamming_dist_hist = Counter([entry[0] for entry in hamming_distance_tuples])\n",
    "cr_CB_CR_hamming_dist_hist = Counter([entry[1] for entry in hamming_distance_tuples])\n",
    "op_cr_CB_CB_hamming_dist_hist = Counter([entry[2] for entry in hamming_distance_tuples])"
   ]
  },
  {
   "cell_type": "code",
   "execution_count": 286,
   "metadata": {},
   "outputs": [
    {
     "name": "stdout",
     "output_type": "stream",
     "text": [
      "Optimus reads missing CB: 0\n",
      "CellRanger reads missing CB: 1271\n",
      "Discordant CB between CellRanger and Optimus: 1493\n",
      "Distribution of (CB, CR) Hamming distance for Optimus reads: Counter({1: 1493})\n",
      "Distribution of (CB, CR) Hamming distance for CellRanger reads: Counter({1: 1493})\n",
      "Distribution of (CB, CB) Hamming distance between Optimus and CellRanger reads: Counter({2: 1493})\n",
      "Number of unique implicated CRs: 1107\n"
     ]
    }
   ],
   "source": [
    "print(f'Optimus reads missing CB: {op_missing_CB}')\n",
    "print(f'CellRanger reads missing CB: {cr_missing_CB}')\n",
    "print(f'Discordant CB between CellRanger and Optimus: {len(hamming_distance_tuples)}')\n",
    "print(f'Distribution of (CB, CR) Hamming distance for Optimus reads: \\\n",
    "{op_CB_CR_hamming_dist_hist}')\n",
    "print(f'Distribution of (CB, CR) Hamming distance for CellRanger reads: \\\n",
    "{cr_CB_CR_hamming_dist_hist}')\n",
    "print(f'Distribution of (CB, CB) Hamming distance between Optimus and CellRanger reads: \\\n",
    "{op_cr_CB_CB_hamming_dist_hist}')\n",
    "print(f'Number of unique implicated CRs: {len(implicated_CR_set)}')"
   ]
  },
  {
   "cell_type": "markdown",
   "metadata": {},
   "source": [
    "**Summary**\n",
    "\n",
    "- All Optimus reads have CB tags\n",
    "- Some CellRanger reads do not have CB tags\n",
    "- Both Optimis and CellRanger only correct barcodes within 1HD from the whitelist\n",
    "- Optimus and CellRanger correct barcode errors in _different ways_"
   ]
  },
  {
   "cell_type": "code",
   "execution_count": null,
   "metadata": {},
   "outputs": [],
   "source": []
  }
 ],
 "metadata": {
  "kernelspec": {
   "display_name": "Python 3",
   "language": "python",
   "name": "python3"
  },
  "language_info": {
   "codemirror_mode": {
    "name": "ipython",
    "version": 3
   },
   "file_extension": ".py",
   "mimetype": "text/x-python",
   "name": "python",
   "nbconvert_exporter": "python",
   "pygments_lexer": "ipython3",
   "version": "3.6.4"
  }
 },
 "nbformat": 4,
 "nbformat_minor": 2
}
