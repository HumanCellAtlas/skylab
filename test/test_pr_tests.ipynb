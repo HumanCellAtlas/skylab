{
 "cells": [
  {
   "cell_type": "code",
   "execution_count": 1,
   "metadata": {
    "run_control": {
     "frozen": false,
     "read_only": false
    }
   },
   "outputs": [],
   "source": [
    "import json\n",
    "import os\n",
    "from google.cloud import storage\n",
    "import cromwell_manager as cwm\n",
    "\n",
    "with open(os.path.expanduser('~/.ssh/mint_cromwell_config.json')) as f:\n",
    "    cromwell_server = cwm.Cromwell(**json.load(f))\n",
    "\n",
    "storage_client = storage.Client(project='broad-dsde-mint-dev')\n",
    "\n",
    "os.environ['wdltool'] = '/Users/ajc/google_drive/software/wdltool-0.14.jar'"
   ]
  },
  {
   "cell_type": "code",
   "execution_count": 2,
   "metadata": {
    "run_control": {
     "frozen": false,
     "read_only": false
    }
   },
   "outputs": [],
   "source": [
    "inputs_json = {\n",
    "    'TestOptimus.expected_bam_hash': '06201722dc6c897261daf9d032377cc8',\n",
    "    'TestOptimus.expected_matrix_hash': '69f3be6085e0c5f694b3cfa877b0eeaa',\n",
    "    'TestOptimus.expected_matrix_summary_hash': 'dd513351d4e7688c97f7bf902ba2876f',\n",
    "    'TestOptimus.expected_picard_metrics_hash': '1c3af42240367ae4dd4cc5f96e70b7ce',\n",
    "    \"TestOptimus.fastq_inputs\": [\n",
    "      [\n",
    "          \"gs://broad-dsde-mint-dev-teststorage/10x/demo/fastqs/pbmc8k_S1_L007_R1_001.fastq.gz\",\n",
    "          \"gs://broad-dsde-mint-dev-teststorage/10x/demo/fastqs/pbmc8k_S1_L007_R2_001.fastq.gz\",\n",
    "          \"gs://broad-dsde-mint-dev-teststorage/10x/demo/fastqs/pbmc8k_S1_L007_I1_001.fastq.gz\"\n",
    "      ],\n",
    "      [\n",
    "          \"gs://broad-dsde-mint-dev-teststorage/10x/demo/fastqs/pbmc8k_S1a_L007_R1_001.fastq.gz\",\n",
    "          \"gs://broad-dsde-mint-dev-teststorage/10x/demo/fastqs/pbmc8k_S1_L007_R2_001.fastq.gz\",\n",
    "          \"gs://broad-dsde-mint-dev-teststorage/10x/demo/fastqs/pbmc8k_S1_L007_I1_001.fastq.gz\"\n",
    "      ]\n",
    "    ],\n",
    "    \"TestOptimus.whitelist\": \"gs://broad-dsde-mint-dev-teststorage/10x/whitelist/737K-august-2016.txt\",\n",
    "    \"TestOptimus.tar_star_reference\": \"gs://broad-dsde-mint-dev-teststorage/demo/star.tar\",\n",
    "    \"TestOptimus.sample_name\": \"pbmc8k_test\",\n",
    "    \"TestOptimus.annotations_gtf\": \"gs://broad-dsde-mint-dev-teststorage/reference/hg19_ds/GSM1629193_hg19_ERCC.gtf.gz\",\n",
    "    \"TestOptimus.ref_genome_fasta\": \"gs://broad-dsde-mint-dev-teststorage/demo/chr21.fa\"\n",
    "}\n",
    "\n",
    "wdl = \"TestOptimus.wdl\"\n",
    "# options_json = \"../adapter_pipelines/Optimus/options.json\"  # no caching \n",
    "workflow_dependencies = {\n",
    "    'Optimus.wdl': '../optimus/Optimus.wdl',\n",
    "    'ValidateOptimus.wdl': 'ValidateOptimus.wdl',\n",
    "    \"StarAlignBamSingleEnd.wdl\": \"../pipelines/tasks/StarAlignBamSingleEnd.wdl\",\n",
    "    \"FastqToUBam.wdl\": \"../pipelines/tasks/FastqToUBam.wdl\",\n",
    "    \"Attach10xBarcodes.wdl\": \"../pipelines/tasks/Attach10xBarcodes.wdl\",\n",
    "    \"SplitBamByCellBarcode.wdl\": \"../pipelines/tasks/SplitBamByCellBarcode.wdl\",\n",
    "    \"TagGeneExon.wdl\": \"../pipelines/tasks/TagGeneExon.wdl\",\n",
    "    \"CorrectUmiMarkDuplicates.wdl\": \"../pipelines/tasks/CorrectUmiMarkDuplicates.wdl\",\n",
    "    \"CollectMultiplePicardMetrics.wdl\": \"../pipelines/tasks/CollectMultiplePicardMetrics.wdl\",\n",
    "    \"MergeBam.wdl\": \"../pipelines/tasks/MergeBam.wdl\",\n",
    "    \"CreateCountMatrix.wdl\": \"../pipelines/tasks/CreateCountMatrix.wdl\"\n",
    "}"
   ]
  },
  {
   "cell_type": "code",
   "execution_count": 16,
   "metadata": {
    "run_control": {
     "frozen": false,
     "read_only": false
    }
   },
   "outputs": [],
   "source": [
    "ss2_dependencies = json.load(open('smartseq2_single_sample/pr/dependencies.json'))\n",
    "for k, v in ss2_dependencies.items():\n",
    "    ss2_dependencies[k] = v.replace('/working', '..')\n",
    "options_json = {\"read_from_cache\": False}\n",
    "ss2_wdl = 'smartseq2_single_sample/pr/TestSmartSeq2SingleCellPR.wdl'\n",
    "ss2_inputs = json.load(open('smartseq2_single_sample/pr/test_inputs.json'))\n",
    "\n",
    "wf = cwm.Workflow.from_submission(\n",
    "    wdl=ss2_wdl,\n",
    "    inputs_json=ss2_inputs,\n",
    "    storage_client=storage_client,\n",
    "    options_json=options_json,\n",
    "    workflow_dependencies=ss2_dependencies,\n",
    "    cromwell_server=cromwell_server)"
   ]
  },
  {
   "cell_type": "code",
   "execution_count": 19,
   "metadata": {
    "run_control": {
     "frozen": false,
     "read_only": false
    }
   },
   "outputs": [
    {
     "data": {
      "text/plain": [
       "{'id': 'c429116c-7d22-44b6-9734-e2b5b0c027c2', 'status': 'Succeeded'}"
      ]
     },
     "execution_count": 19,
     "metadata": {},
     "output_type": "execute_result"
    }
   ],
   "source": [
    "wf.status"
   ]
  },
  {
   "cell_type": "code",
   "execution_count": 15,
   "metadata": {
    "scrolled": false
   },
   "outputs": [
    {
     "data": {
      "text/plain": [
       "{'calls': {'TestSmartSeq2SingleCellPR.checker': [{'attempt': 1,\n",
       "    'backendLogs': {'log': 'gs://broad-dsde-mint-dev-cromwell-execution/cromwell-executions/TestSmartSeq2SingleCellPR/df9529e8-2380-487e-85b0-0634a088ae5b/call-checker/checker.log'},\n",
       "    'shardIndex': -1,\n",
       "    'stderr': 'gs://broad-dsde-mint-dev-cromwell-execution/cromwell-executions/TestSmartSeq2SingleCellPR/df9529e8-2380-487e-85b0-0634a088ae5b/call-checker/checker-stderr.log',\n",
       "    'stdout': 'gs://broad-dsde-mint-dev-cromwell-execution/cromwell-executions/TestSmartSeq2SingleCellPR/df9529e8-2380-487e-85b0-0634a088ae5b/call-checker/checker-stdout.log'}]},\n",
       " 'id': 'df9529e8-2380-487e-85b0-0634a088ae5b'}"
      ]
     },
     "execution_count": 15,
     "metadata": {},
     "output_type": "execute_result"
    }
   ],
   "source": [
    "wf.logs"
   ]
  },
  {
   "cell_type": "code",
   "execution_count": 84,
   "metadata": {
    "collapsed": true,
    "run_control": {
     "frozen": false,
     "read_only": false
    }
   },
   "outputs": [],
   "source": [
    "with open('test_inputs_temp.json', 'w') as f:\n",
    "    json.dump(inputs_json, f)"
   ]
  },
  {
   "cell_type": "code",
   "execution_count": 85,
   "metadata": {
    "run_control": {
     "frozen": false,
     "read_only": false
    }
   },
   "outputs": [],
   "source": [
    "%%bash\n",
    "cat test_inputs_temp.json | jq . > test_inputs.json\n",
    "rm test_inputs_temp.json"
   ]
  },
  {
   "cell_type": "code",
   "execution_count": 90,
   "metadata": {
    "collapsed": true,
    "run_control": {
     "frozen": false,
     "read_only": false
    }
   },
   "outputs": [],
   "source": [
    "with open('dependencies_temp.json', 'w') as f:\n",
    "    json.dump(workflow_dependencies, f)"
   ]
  },
  {
   "cell_type": "code",
   "execution_count": 91,
   "metadata": {
    "collapsed": true,
    "run_control": {
     "frozen": false,
     "read_only": false
    }
   },
   "outputs": [],
   "source": [
    "%%bash\n",
    "cat dependencies_temp.json | jq . > dependencies.json\n",
    "rm dependencies_temp.json"
   ]
  },
  {
   "cell_type": "code",
   "execution_count": 93,
   "metadata": {
    "collapsed": true,
    "run_control": {
     "frozen": false,
     "read_only": false
    }
   },
   "outputs": [],
   "source": [
    "with open('options_temp.json', 'w') as f:\n",
    "    json.dump(options_json, f)"
   ]
  },
  {
   "cell_type": "code",
   "execution_count": 94,
   "metadata": {
    "collapsed": true,
    "run_control": {
     "frozen": false,
     "read_only": false
    }
   },
   "outputs": [],
   "source": [
    "%%bash\n",
    "cat options_temp.json | jq . > options.json\n",
    "rm options_temp.json"
   ]
  },
  {
   "cell_type": "code",
   "execution_count": 64,
   "metadata": {
    "run_control": {
     "frozen": false,
     "read_only": false
    }
   },
   "outputs": [
    {
     "name": "stdout",
     "output_type": "stream",
     "text": [
      "CWM:2017-12-05 17:37:19.381609:creating temporary directory\n",
      "CWM:2017-12-05 17:37:19.382959:writing dependencies\n",
      "CWM:2017-12-05 17:37:19.397641:writing wdl\n",
      "CWM:2017-12-05 17:37:19.398868:running wdltool validate\n",
      "CWM:2017-12-05 17:37:20.920296:validation successful\n",
      "CWM:2017-12-05 17:37:21.232200:checking docker image humancellatlas/dropseqtools:1.12... OK.\n",
      "CWM:2017-12-05 17:37:21.414104:checking docker image ubuntu:17.04... not found. Is image private?\n",
      "CWM:2017-12-05 17:37:22.470443:checking docker image humancellatlas/picard:2.10.10... OK.\n",
      "CWM:2017-12-05 17:37:22.705134:checking docker image humancellatlas/samtools:1.3.1... OK.\n",
      "CWM:2017-12-05 17:37:22.976520:checking docker image humancellatlas/star:2.5.3a-40ead6e... OK.\n",
      "CWM:2017-12-05 17:37:23.203105:checking docker image humancellatlas/python3-scientific:0.1.3... OK.\n"
     ]
    }
   ],
   "source": [
    "\n",
    "cwm.Workflow.validate(\n",
    "    wdl=wdl,\n",
    "    inputs_json=inputs_json,\n",
    "    storage_client=storage_client,\n",
    "    workflow_dependencies=workflow_dependencies,\n",
    "    cromwell_server=cromwell_server)"
   ]
  },
  {
   "cell_type": "code",
   "execution_count": 65,
   "metadata": {
    "collapsed": true,
    "run_control": {
     "frozen": false,
     "read_only": false
    }
   },
   "outputs": [],
   "source": [
    "wf = cwm.Workflow.from_submission(\n",
    "    wdl=wdl,\n",
    "    inputs_json=inputs_json,\n",
    "    storage_client=storage_client,\n",
    "    workflow_dependencies=workflow_dependencies,\n",
    "    cromwell_server=cromwell_server)"
   ]
  },
  {
   "cell_type": "code",
   "execution_count": 70,
   "metadata": {
    "run_control": {
     "frozen": false,
     "read_only": false
    }
   },
   "outputs": [
    {
     "data": {
      "text/plain": [
       "{'id': 'f8ba61dc-bf8a-4c1e-8c69-f22608a571d8', 'status': 'Succeeded'}"
      ]
     },
     "execution_count": 70,
     "metadata": {},
     "output_type": "execute_result"
    }
   ],
   "source": [
    "wf.status"
   ]
  },
  {
   "cell_type": "code",
   "execution_count": 69,
   "metadata": {
    "run_control": {
     "frozen": false,
     "read_only": false
    }
   },
   "outputs": [
    {
     "name": "stdout",
     "output_type": "stream",
     "text": [
      "bam_hash (06201722dc6c897261daf9d032377cc8  /cromwell_root/broad-dsde-mint-dev-cromwell-execution/cromwell-executions/TestOptimus/9c92e1f3-ec44-4e25-8ee8-e2d4d7dd82de/call-target/Optimus/866e61bf-188b-4ec3-a8a4-abd12b83ea09/call-MergeBam/out.bam) did not match expected hash (a85318fbf34a5e3ce13ddfbd73732771)\n",
      "matrix_hash (69f3be6085e0c5f694b3cfa877b0eeaa  /cromwell_root/broad-dsde-mint-dev-cromwell-execution/cromwell-executions/TestOptimus/9c92e1f3-ec44-4e25-8ee8-e2d4d7dd82de/call-target/Optimus/866e61bf-188b-4ec3-a8a4-abd12b83ea09/call-DropSeqToolsDigitalExpression/digital_expression.txt.gz) did not match expected hash (69f3be6085e0c5f694b3cfa877b0eeaa)\n",
      "matrix_summary_hash (dd513351d4e7688c97f7bf902ba2876f  /cromwell_root/broad-dsde-mint-dev-cromwell-execution/cromwell-executions/TestOptimus/9c92e1f3-ec44-4e25-8ee8-e2d4d7dd82de/call-target/Optimus/866e61bf-188b-4ec3-a8a4-abd12b83ea09/call-DropSeqToolsDigitalExpression/digital_expression_summary.txt) did not match expected hash (dd513351d4e7688c97f7bf902ba2876f)\n",
      "matrix_summary_hash (dd513351d4e7688c97f7bf902ba2876f  /cromwell_root/broad-dsde-mint-dev-cromwell-execution/cromwell-executions/TestOptimus/9c92e1f3-ec44-4e25-8ee8-e2d4d7dd82de/call-target/Optimus/866e61bf-188b-4ec3-a8a4-abd12b83ea09/call-DropSeqToolsDigitalExpression/digital_expression_summary.txt) did not match expected hash (dd513351d4e7688c97f7bf902ba2876f)\n",
      "picard_metrics_hash (1c3af42240367ae4dd4cc5f96e70b7ce  /cromwell_root/broad-dsde-mint-dev-cromwell-execution/cromwell-executions/TestOptimus/9c92e1f3-ec44-4e25-8ee8-e2d4d7dd82de/call-target/Optimus/866e61bf-188b-4ec3-a8a4-abd12b83ea09/call-CollectMultipleMetrics/pbmc8k_test.tar.gz) did not match expected hash (36101cca60876ab8733729961366322d)\n"
     ]
    }
   ],
   "source": [
    "!gsutil cat gs://broad-dsde-mint-dev-cromwell-execution/cromwell-executions/TestOptimus/9c92e1f3-ec44-4e25-8ee8-e2d4d7dd82de/call-checker/checker-stderr.log"
   ]
  },
  {
   "cell_type": "code",
   "execution_count": 49,
   "metadata": {
    "run_control": {
     "frozen": false,
     "read_only": false
    }
   },
   "outputs": [],
   "source": [
    "failing_inputs_json = {\n",
    "    'TestOptimus.expected_bam_hash': 'IShouldDefinitelyNotPassBecauseImTheWrongHash',\n",
    "    'TestOptimus.expected_matrix_hash': '69f3be6085e0c5f694b3cfa877b0eeaa',\n",
    "    'TestOptimus.expected_matrix_summary_hash': 'dd513351d4e7688c97f7bf902ba2876f',\n",
    "    'TestOptimus.expected_picard_metrics_hash': '36101cca60876ab8733729961366322d',\n",
    "    \"TestOptimus.fastq_inputs\": [\n",
    "      [\n",
    "          \"gs://broad-dsde-mint-dev-teststorage/10x/demo/fastqs/pbmc8k_S1_L007_R1_001.fastq.gz\",\n",
    "          \"gs://broad-dsde-mint-dev-teststorage/10x/demo/fastqs/pbmc8k_S1_L007_R2_001.fastq.gz\",\n",
    "          \"gs://broad-dsde-mint-dev-teststorage/10x/demo/fastqs/pbmc8k_S1_L007_I1_001.fastq.gz\"\n",
    "      ],\n",
    "      [\n",
    "          \"gs://broad-dsde-mint-dev-teststorage/10x/demo/fastqs/pbmc8k_S1_L007_R1_001.fastq.gz\",\n",
    "          \"gs://broad-dsde-mint-dev-teststorage/10x/demo/fastqs/pbmc8k_S1_L007_R2_001.fastq.gz\",\n",
    "          \"gs://broad-dsde-mint-dev-teststorage/10x/demo/fastqs/pbmc8k_S1_L007_I1_001.fastq.gz\"\n",
    "      ]\n",
    "    ],\n",
    "    \"TestOptimus.whitelist\": \"gs://broad-dsde-mint-dev-teststorage/10x/whitelist/737K-august-2016.txt\",\n",
    "    \"TestOptimus.tar_star_reference\": \"gs://broad-dsde-mint-dev-teststorage/demo/star.tar\",\n",
    "    \"TestOptimus.sample_name\": \"pbmc8k_test\",\n",
    "    \"TestOptimus.annotations_gtf\": \"gs://broad-dsde-mint-dev-teststorage/reference/hg19_ds/GSM1629193_hg19_ERCC.gtf.gz\",\n",
    "    \"TestOptimus.ref_genome_fasta\": \"gs://broad-dsde-mint-dev-teststorage/demo/chr21.fa\"\n",
    "}\n",
    "\n",
    "wdl = \"TestOptimus.wdl\"\n",
    "# options_json = \"../adapter_pipelines/Optimus/options.json\"  # no caching \n",
    "workflow_dependencies = {\n",
    "    'Optimus.wdl': '../optimus/Optimus.wdl',\n",
    "    'ValidateOptimus.wdl': 'ValidateOptimus.wdl',\n",
    "    \"StarAlignBamSingleEnd.wdl\": \"../pipelines/tasks/StarAlignBamSingleEnd.wdl\",\n",
    "    \"FastqToUBam.wdl\": \"../pipelines/tasks/FastqToUBam.wdl\",\n",
    "    \"Attach10xBarcodes.wdl\": \"../pipelines/tasks/Attach10xBarcodes.wdl\",\n",
    "    \"SplitBamByCellBarcode.wdl\": \"../pipelines/tasks/SplitBamByCellBarcode.wdl\",\n",
    "    \"TagGeneExon.wdl\": \"../pipelines/tasks/TagGeneExon.wdl\",\n",
    "    \"CorrectUmiMarkDuplicates.wdl\": \"../pipelines/tasks/CorrectUmiMarkDuplicates.wdl\",\n",
    "    \"CollectMultiplePicardMetrics.wdl\": \"../pipelines/tasks/CollectMultiplePicardMetrics.wdl\",\n",
    "    \"MergeBam.wdl\": \"../pipelines/tasks/MergeBam.wdl\",\n",
    "    \"CreateCountMatrix.wdl\": \"../pipelines/tasks/CreateCountMatrix.wdl\"\n",
    "}"
   ]
  },
  {
   "cell_type": "code",
   "execution_count": 50,
   "metadata": {
    "collapsed": true,
    "run_control": {
     "frozen": false,
     "read_only": false
    }
   },
   "outputs": [],
   "source": [
    "failing_wf = cwm.Workflow.from_submission(\n",
    "    wdl=wdl,\n",
    "    inputs_json=failing_inputs_json,\n",
    "    storage_client=storage_client,\n",
    "    workflow_dependencies=workflow_dependencies,\n",
    "    cromwell_server=cromwell_server)"
   ]
  },
  {
   "cell_type": "code",
   "execution_count": 51,
   "metadata": {
    "run_control": {
     "frozen": false,
     "read_only": false
    }
   },
   "outputs": [
    {
     "data": {
      "text/plain": [
       "{'id': '6bfd3f85-1af5-4201-8808-faab002a9348', 'status': 'Succeeded'}"
      ]
     },
     "execution_count": 51,
     "metadata": {},
     "output_type": "execute_result"
    }
   ],
   "source": [
    "wf.status"
   ]
  },
  {
   "cell_type": "code",
   "execution_count": 52,
   "metadata": {
    "run_control": {
     "frozen": false,
     "read_only": false
    }
   },
   "outputs": [
    {
     "data": {
      "text/plain": [
       "{'calls': {'TestOptimus.checker': [{'attempt': 1,\n",
       "    'backendLogs': {'log': 'gs://broad-dsde-mint-dev-cromwell-execution/cromwell-executions/TestOptimus/6bfd3f85-1af5-4201-8808-faab002a9348/call-checker/checker.log'},\n",
       "    'shardIndex': -1,\n",
       "    'stderr': 'gs://broad-dsde-mint-dev-cromwell-execution/cromwell-executions/TestOptimus/6bfd3f85-1af5-4201-8808-faab002a9348/call-checker/checker-stderr.log',\n",
       "    'stdout': 'gs://broad-dsde-mint-dev-cromwell-execution/cromwell-executions/TestOptimus/6bfd3f85-1af5-4201-8808-faab002a9348/call-checker/checker-stdout.log'}]},\n",
       " 'id': '6bfd3f85-1af5-4201-8808-faab002a9348'}"
      ]
     },
     "execution_count": 52,
     "metadata": {},
     "output_type": "execute_result"
    }
   ],
   "source": [
    "wf.logs"
   ]
  },
  {
   "cell_type": "code",
   "execution_count": 54,
   "metadata": {
    "run_control": {
     "frozen": false,
     "read_only": false
    }
   },
   "outputs": [
    {
     "name": "stdout",
     "output_type": "stream",
     "text": [
      "/cromwell_root/exec.sh: line 16: [: too many arguments\r\n",
      "/cromwell_root/exec.sh: line 21: [: too many arguments\r\n",
      "/cromwell_root/exec.sh: line 25: [: too many arguments\r\n",
      "/cromwell_root/exec.sh: line 29: [: too many arguments\r\n",
      "/cromwell_root/exec.sh: line 33: [: too many arguments\r\n"
     ]
    }
   ],
   "source": [
    "!gsutil cat gs://broad-dsde-mint-dev-cromwell-execution/cromwell-executions/TestOptimus/6bfd3f85-1af5-4201-8808-faab002a9348/call-checker/checker-stderr.log"
   ]
  },
  {
   "cell_type": "markdown",
   "metadata": {
    "collapsed": true,
    "run_control": {
     "frozen": false,
     "read_only": false
    }
   },
   "source": [
    "## Test PR and scientific tests from config files"
   ]
  },
  {
   "cell_type": "code",
   "execution_count": 2,
   "metadata": {
    "run_control": {
     "frozen": false,
     "read_only": false
    }
   },
   "outputs": [
    {
     "name": "stdout",
     "output_type": "stream",
     "text": [
      "TestOptimusPR.wdl    dependencies.json\r\n",
      "ValidateOptimus.wdl  test_inputs.json\r\n"
     ]
    }
   ],
   "source": [
    "ls optimus/pr/"
   ]
  },
  {
   "cell_type": "markdown",
   "metadata": {},
   "source": [
    "### PR tests"
   ]
  },
  {
   "cell_type": "code",
   "execution_count": 137,
   "metadata": {
    "run_control": {
     "frozen": false,
     "read_only": false
    }
   },
   "outputs": [],
   "source": [
    "wdl='optimus/pr/TestOptimusPR.wdl'\n",
    "dependencies='optimus/pr/dependencies.json'\n",
    "with open(dependencies, 'r') as f:\n",
    "    dependencies = json.load(f)\n",
    "inputs='optimus/pr/test_inputs.json'\n",
    "options='options.json'"
   ]
  },
  {
   "cell_type": "code",
   "execution_count": 94,
   "metadata": {
    "run_control": {
     "frozen": false,
     "read_only": false
    }
   },
   "outputs": [
    {
     "name": "stdout",
     "output_type": "stream",
     "text": [
      "CWM:2017-12-12 09:14:10.224205:creating temporary directory\n",
      "CWM:2017-12-12 09:14:10.225869:writing dependencies\n",
      "CWM:2017-12-12 09:14:10.236165:writing wdl\n",
      "CWM:2017-12-12 09:14:10.236991:running wdltool validate\n",
      "CWM:2017-12-12 09:14:11.614211:validation successful\n",
      "CWM:2017-12-12 09:14:12.873793:checking docker image humancellatlas/dropseqtools:1.12... OK.\n",
      "CWM:2017-12-12 09:14:13.144924:checking docker image humancellatlas/python3-scientific:0.1.5... OK.\n",
      "CWM:2017-12-12 09:14:13.392328:checking docker image humancellatlas/picard:2.10.10... OK.\n",
      "CWM:2017-12-12 09:14:13.649861:checking docker image humancellatlas/star:2.5.3a-40ead6e... OK.\n",
      "CWM:2017-12-12 09:14:13.902457:checking docker image humancellatlas/samtools:1.3.1... OK.\n"
     ]
    }
   ],
   "source": [
    "pr_wf = cwm.Workflow.validate(\n",
    "    wdl=wdl,\n",
    "    inputs_json=inputs,\n",
    "    storage_client=storage_client,\n",
    "    workflow_dependencies=dependencies,\n",
    "    cromwell_server=cromwell_server)"
   ]
  },
  {
   "cell_type": "code",
   "execution_count": 138,
   "metadata": {
    "run_control": {
     "frozen": false,
     "read_only": false
    }
   },
   "outputs": [],
   "source": [
    "pr_wf = cwm.Workflow.from_submission(\n",
    "    wdl=wdl,\n",
    "    inputs_json=inputs,\n",
    "    storage_client=storage_client,\n",
    "    workflow_dependencies=dependencies,\n",
    "    cromwell_server=cromwell_server,\n",
    "    options_json=options)"
   ]
  },
  {
   "cell_type": "code",
   "execution_count": 139,
   "metadata": {
    "run_control": {
     "frozen": false,
     "read_only": false
    }
   },
   "outputs": [],
   "source": [
    "pr_wf2 = cwm.Workflow.from_submission(\n",
    "    wdl=wdl,\n",
    "    inputs_json=inputs,\n",
    "    storage_client=storage_client,\n",
    "    workflow_dependencies=dependencies,\n",
    "    cromwell_server=cromwell_server,\n",
    "    options_json=options)"
   ]
  },
  {
   "cell_type": "code",
   "execution_count": 109,
   "metadata": {
    "run_control": {
     "frozen": false,
     "read_only": false
    }
   },
   "outputs": [
    {
     "data": {
      "text/plain": [
       "<Response [200]>"
      ]
     },
     "execution_count": 109,
     "metadata": {},
     "output_type": "execute_result"
    }
   ],
   "source": [
    "cromwell_server.metadata(pr_wf.id, open_browser=True)"
   ]
  },
  {
   "cell_type": "code",
   "execution_count": 117,
   "metadata": {
    "run_control": {
     "frozen": false,
     "read_only": false
    }
   },
   "outputs": [
    {
     "data": {
      "text/plain": [
       "{'calls': {'TestOptimusPR.checker': [{'attempt': 1,\n",
       "    'backendLogs': {'log': 'gs://broad-dsde-mint-dev-cromwell-execution/cromwell-executions/TestOptimusPR/80af9921-f9ad-4b45-b9a5-a1361c9f306b/call-checker/checker.log'},\n",
       "    'shardIndex': -1,\n",
       "    'stderr': 'gs://broad-dsde-mint-dev-cromwell-execution/cromwell-executions/TestOptimusPR/80af9921-f9ad-4b45-b9a5-a1361c9f306b/call-checker/checker-stderr.log',\n",
       "    'stdout': 'gs://broad-dsde-mint-dev-cromwell-execution/cromwell-executions/TestOptimusPR/80af9921-f9ad-4b45-b9a5-a1361c9f306b/call-checker/checker-stdout.log'}]},\n",
       " 'id': '80af9921-f9ad-4b45-b9a5-a1361c9f306b'}"
      ]
     },
     "execution_count": 117,
     "metadata": {},
     "output_type": "execute_result"
    }
   ],
   "source": [
    "pr_wf2.logs"
   ]
  },
  {
   "cell_type": "code",
   "execution_count": 136,
   "metadata": {
    "run_control": {
     "frozen": false,
     "read_only": false
    }
   },
   "outputs": [
    {
     "data": {
      "text/plain": [
       "'gs://broad-dsde-mint-dev-cromwell-execution/cromwell-executions/TestOptimusPR/d3858e86-9c35-4a36-a110-d02588a99d1e/call-target/Optimus/8232e6a3-6166-4b91-924d-043d84a3e276/call-MergeBam/out_sorted.bam'"
      ]
     },
     "execution_count": 136,
     "metadata": {},
     "output_type": "execute_result"
    }
   ],
   "source": [
    "cromwell_server.outputs(pr_wf.metadata['calls']['TestOptimusPR.target'][0]['subWorkflowId']).json()['outputs']['Optimus.bam']"
   ]
  },
  {
   "cell_type": "code",
   "execution_count": 134,
   "metadata": {
    "run_control": {
     "frozen": false,
     "read_only": false
    }
   },
   "outputs": [
    {
     "data": {
      "text/plain": [
       "'gs://broad-dsde-mint-dev-cromwell-execution/cromwell-executions/TestOptimusPR/80af9921-f9ad-4b45-b9a5-a1361c9f306b/call-target/Optimus/8f360c7a-5724-499a-ac8c-d9b243f26ddc/call-CollectMultipleMetrics/pbmc8k_test.tar.gz'"
      ]
     },
     "execution_count": 134,
     "metadata": {},
     "output_type": "execute_result"
    }
   ],
   "source": [
    "cromwell_server.outputs(pr_wf2.metadata['calls']['TestOptimusPR.target'][0]['subWorkflowId']).json()['outputs']['Optimus.picard_metrics']"
   ]
  },
  {
   "cell_type": "code",
   "execution_count": 142,
   "metadata": {
    "run_control": {
     "frozen": false,
     "read_only": false
    }
   },
   "outputs": [
    {
     "name": "stdout",
     "output_type": "stream",
     "text": [
      "{'calls': {'TestOptimusPR.checker': [{'stdout': 'gs://broad-dsde-mint-dev-cromwell-execution/cromwell-executions/TestOptimusPR/63b674a5-5deb-4194-b920-c15050eb2b8d/call-checker/checker-stdout.log', 'shardIndex': -1, 'stderr': 'gs://broad-dsde-mint-dev-cromwell-execution/cromwell-executions/TestOptimusPR/63b674a5-5deb-4194-b920-c15050eb2b8d/call-checker/checker-stderr.log', 'attempt': 1, 'backendLogs': {'log': 'gs://broad-dsde-mint-dev-cromwell-execution/cromwell-executions/TestOptimusPR/63b674a5-5deb-4194-b920-c15050eb2b8d/call-checker/checker.log'}}]}, 'id': '63b674a5-5deb-4194-b920-c15050eb2b8d'}\n",
      "{'calls': {'TestOptimusPR.checker': [{'stdout': 'gs://broad-dsde-mint-dev-cromwell-execution/cromwell-executions/TestOptimusPR/bde37bd9-b81d-4c96-9df8-5b7035c062cc/call-checker/checker-stdout.log', 'shardIndex': -1, 'stderr': 'gs://broad-dsde-mint-dev-cromwell-execution/cromwell-executions/TestOptimusPR/bde37bd9-b81d-4c96-9df8-5b7035c062cc/call-checker/checker-stderr.log', 'attempt': 1, 'backendLogs': {'log': 'gs://broad-dsde-mint-dev-cromwell-execution/cromwell-executions/TestOptimusPR/bde37bd9-b81d-4c96-9df8-5b7035c062cc/call-checker/checker.log'}}]}, 'id': 'bde37bd9-b81d-4c96-9df8-5b7035c062cc'}\n"
     ]
    }
   ],
   "source": [
    "print(pr_wf.logs)\n",
    "print(pr_wf2.logs)"
   ]
  },
  {
   "cell_type": "code",
   "execution_count": 145,
   "metadata": {
    "run_control": {
     "frozen": false,
     "read_only": false
    }
   },
   "outputs": [
    {
     "name": "stdout",
     "output_type": "stream",
     "text": [
      "bam_hash (8c03262b5bd383abd237e5c1dab202bd) did not match expected hash (b58ad655d246e0c50a12d492bf4567dd)\r\n",
      "picard_metrics_hash (7b7be5c9a2236920ca09f05811dca6d5) did not match expected hash (3a1d63932057b18ae8eb2463b1d5236e)\r\n"
     ]
    }
   ],
   "source": [
    "!gsutil cat gs://broad-dsde-mint-dev-cromwell-execution/cromwell-executions/TestOptimusPR/bde37bd9-b81d-4c96-9df8-5b7035c062cc/call-checker/checker-stderr.log"
   ]
  },
  {
   "cell_type": "code",
   "execution_count": 146,
   "metadata": {
    "run_control": {
     "frozen": false,
     "read_only": false
    }
   },
   "outputs": [
    {
     "name": "stdout",
     "output_type": "stream",
     "text": [
      "bam_hash (8c03262b5bd383abd237e5c1dab202bd) did not match expected hash (b58ad655d246e0c50a12d492bf4567dd)\r\n",
      "picard_metrics_hash (7b7be5c9a2236920ca09f05811dca6d5) did not match expected hash (3a1d63932057b18ae8eb2463b1d5236e)\r\n"
     ]
    }
   ],
   "source": [
    "!gsutil cat gs://broad-dsde-mint-dev-cromwell-execution/cromwell-executions/TestOptimusPR/63b674a5-5deb-4194-b920-c15050eb2b8d/call-checker/checker-stderr.log"
   ]
  },
  {
   "cell_type": "code",
   "execution_count": 143,
   "metadata": {
    "run_control": {
     "frozen": false,
     "read_only": false
    }
   },
   "outputs": [
    {
     "data": {
      "text/plain": [
       "{'id': 'bde37bd9-b81d-4c96-9df8-5b7035c062cc', 'status': 'Failed'}"
      ]
     },
     "execution_count": 143,
     "metadata": {},
     "output_type": "execute_result"
    }
   ],
   "source": [
    "# when this one fails, update the @RG header\n",
    "pr_wf2.status"
   ]
  },
  {
   "cell_type": "code",
   "execution_count": 144,
   "metadata": {
    "run_control": {
     "frozen": false,
     "read_only": false
    }
   },
   "outputs": [
    {
     "data": {
      "text/plain": [
       "{'id': '63b674a5-5deb-4194-b920-c15050eb2b8d', 'status': 'Running'}"
      ]
     },
     "execution_count": 144,
     "metadata": {},
     "output_type": "execute_result"
    }
   ],
   "source": [
    "# when this one fails, update the @RG header\n",
    "pr_wf.status"
   ]
  },
  {
   "cell_type": "markdown",
   "metadata": {},
   "source": [
    "### Scientific tests"
   ]
  },
  {
   "cell_type": "code",
   "execution_count": 65,
   "metadata": {
    "run_control": {
     "frozen": false,
     "read_only": false
    }
   },
   "outputs": [],
   "source": [
    "sci_wdl='optimus/scientific/TestOptimusScientific.wdl'\n",
    "sci_dependencies='optimus/scientific/dependencies.json'\n",
    "with open(sci_dependencies, 'r') as f:\n",
    "    sci_dependencies = json.load(f)\n",
    "sci_inputs='optimus/scientific/test_inputs.json'"
   ]
  },
  {
   "cell_type": "code",
   "execution_count": 46,
   "metadata": {
    "run_control": {
     "frozen": false,
     "read_only": false
    }
   },
   "outputs": [
    {
     "name": "stdout",
     "output_type": "stream",
     "text": [
      "CWM:2017-12-11 19:17:32.595019:creating temporary directory\n",
      "CWM:2017-12-11 19:17:32.596616:writing dependencies\n",
      "CWM:2017-12-11 19:17:32.606036:writing wdl\n",
      "CWM:2017-12-11 19:17:32.606800:running wdltool validate\n",
      "CWM:2017-12-11 19:17:33.811435:validation successful\n",
      "CWM:2017-12-11 19:17:34.562100:checking docker image humancellatlas/dropseqtools:1.12... OK.\n",
      "CWM:2017-12-11 19:17:35.050001:checking docker image humancellatlas/python3-scientific:0.1.5... OK.\n",
      "CWM:2017-12-11 19:17:35.588630:checking docker image humancellatlas/picard:2.10.10... OK.\n",
      "CWM:2017-12-11 19:17:36.142646:checking docker image humancellatlas/star:2.5.3a-40ead6e... OK.\n",
      "CWM:2017-12-11 19:17:36.779175:checking docker image humancellatlas/samtools:1.3.1... OK.\n"
     ]
    }
   ],
   "source": [
    "sci_wf = cwm.Workflow.validate(\n",
    "    wdl=sci_wdl,\n",
    "    inputs_json=sci_inputs,\n",
    "    storage_client=storage_client,\n",
    "    workflow_dependencies=sci_dependencies,\n",
    "    cromwell_server=cromwell_server)"
   ]
  },
  {
   "cell_type": "code",
   "execution_count": 66,
   "metadata": {
    "run_control": {
     "frozen": false,
     "read_only": false
    }
   },
   "outputs": [],
   "source": [
    "sci_wf = cwm.Workflow.from_submission(\n",
    "    wdl=sci_wdl,\n",
    "    inputs_json=sci_inputs,\n",
    "    storage_client=storage_client,\n",
    "    workflow_dependencies=sci_dependencies,\n",
    "    cromwell_server=cromwell_server)"
   ]
  },
  {
   "cell_type": "code",
   "execution_count": 60,
   "metadata": {
    "run_control": {
     "frozen": false,
     "read_only": false
    }
   },
   "outputs": [
    {
     "data": {
      "text/plain": [
       "{'id': '91fef86e-7b1b-4260-bc09-cc357a730634', 'status': 'Failed'}"
      ]
     },
     "execution_count": 60,
     "metadata": {},
     "output_type": "execute_result"
    }
   ],
   "source": [
    "sci_wf.status"
   ]
  },
  {
   "cell_type": "code",
   "execution_count": 69,
   "metadata": {
    "run_control": {
     "frozen": false,
     "read_only": false
    }
   },
   "outputs": [
    {
     "data": {
      "text/plain": [
       "<Response [200]>"
      ]
     },
     "execution_count": 69,
     "metadata": {},
     "output_type": "execute_result"
    }
   ],
   "source": [
    "sci_wf.timing()\n",
    "cromwell_server.metadata(sci_wf.id, open_browser=True)"
   ]
  },
  {
   "cell_type": "code",
   "execution_count": null,
   "metadata": {
    "run_control": {
     "frozen": false,
     "read_only": false
    }
   },
   "outputs": [],
   "source": []
  }
 ],
 "metadata": {
  "hide_input": false,
  "kernelspec": {
   "display_name": "Python 3",
   "language": "python",
   "name": "python3"
  },
  "language_info": {
   "codemirror_mode": {
    "name": "ipython",
    "version": 3
   },
   "file_extension": ".py",
   "mimetype": "text/x-python",
   "name": "python",
   "nbconvert_exporter": "python",
   "pygments_lexer": "ipython3",
   "version": "3.6.1"
  },
  "nav_menu": {},
  "toc": {
   "navigate_menu": true,
   "number_sections": true,
   "sideBar": true,
   "threshold": 6.0,
   "toc_cell": false,
   "toc_section_display": "block",
   "toc_window_display": false
  }
 },
 "nbformat": 4,
 "nbformat_minor": 2
}
