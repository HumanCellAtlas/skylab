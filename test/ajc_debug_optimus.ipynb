{
 "cells": [
  {
   "cell_type": "markdown",
   "metadata": {},
   "source": [
    "# Optimus & Cell Ranger Data Comparisons"
   ]
  },
  {
   "cell_type": "markdown",
   "metadata": {},
   "source": [
    "In This notebook, we compare optimus and cell ranger outputs. I initially examined the count matrices but realized there were large discrepancies, so am now looking at the bam files. The current summary is that we should have outputs that are equivalent to cell ranger from the alignment stage, and I am investigating whether there are discrepancies in the way that we're tagging the bam files. "
   ]
  },
  {
   "cell_type": "code",
   "execution_count": 6,
   "metadata": {},
   "outputs": [],
   "source": [
    "import sctools\n",
    "import numpy as np\n",
    "import collections\n",
    "import scipy.sparse as sp_sparse\n",
    "import tables\n",
    "import pysam\n",
    "from collections import Counter"
   ]
  },
  {
   "cell_type": "markdown",
   "metadata": {},
   "source": [
    "The following cells download and load the Optimus and cell ranger count matrices"
   ]
  },
  {
   "cell_type": "code",
   "execution_count": 17,
   "metadata": {},
   "outputs": [
    {
     "name": "stderr",
     "output_type": "stream",
     "text": [
      "Copying gs://broad-dsde-mint-dev-cromwell-execution/cromwell-executions/TestOptimusScientific/fd674a6d-373f-4d3f-9d17-ed9b4de58535/call-target/Optimus/36b08252-3b0d-4998-bf99-05d779e5599f/call-MergeCountFiles/sparse_counts.npz...\n",
      "/ [0 files][    0.0 B/  2.0 KiB]                                                \r",
      "/ [1 files][  2.0 KiB/  2.0 KiB]                                                \r\n",
      "Operation completed over 1 objects/2.0 KiB.                                      \n",
      "Copying gs://broad-dsde-mint-dev-cromwell-execution/cromwell-executions/TestOptimusScientific/fd674a6d-373f-4d3f-9d17-ed9b4de58535/call-target/Optimus/36b08252-3b0d-4998-bf99-05d779e5599f/call-MergeCountFiles/sparse_counts_col_index.npy...\n",
      "/ [0 files][    0.0 B/  2.4 MiB]                                                \r",
      "/ [1 files][  2.4 MiB/  2.4 MiB]                                                \r\n",
      "Operation completed over 1 objects/2.4 MiB.                                      \n",
      "Copying gs://broad-dsde-mint-dev-cromwell-execution/cromwell-executions/TestOptimusScientific/fd674a6d-373f-4d3f-9d17-ed9b4de58535/call-target/Optimus/36b08252-3b0d-4998-bf99-05d779e5599f/call-MergeCountFiles/sparse_counts_row_index.npy...\n",
      "/ [0 files][    0.0 B/ 44.0 KiB]                                                \r",
      "/ [1 files][ 44.0 KiB/ 44.0 KiB]                                                \r\n",
      "Operation completed over 1 objects/44.0 KiB.                                     \n",
      "Copying gs://broad-dsde-mint-dev-cromwell-execution/cromwell-executions/cellranger/92e66952-18b3-4f16-a95d-2d6eb15c2081/call-CellRanger/synthetic/outs/raw_gene_bc_matrices_h5.h5...\n",
      "/ [0 files][    0.0 B/  1.7 MiB]                                                \r",
      "/ [1 files][  1.7 MiB/  1.7 MiB]                                                \r\n",
      "Operation completed over 1 objects/1.7 MiB.                                      \n"
     ]
    }
   ],
   "source": [
    "%%bash\n",
    "gsutil cp gs://broad-dsde-mint-dev-cromwell-execution/cromwell-executions/TestOptimusScientific/fd674a6d-373f-4d3f-9d17-ed9b4de58535/call-target/Optimus/36b08252-3b0d-4998-bf99-05d779e5599f/call-MergeCountFiles/sparse_counts.npz ./optimus/sparse_counts.npz\n",
    "gsutil cp gs://broad-dsde-mint-dev-cromwell-execution/cromwell-executions/TestOptimusScientific/fd674a6d-373f-4d3f-9d17-ed9b4de58535/call-target/Optimus/36b08252-3b0d-4998-bf99-05d779e5599f/call-MergeCountFiles/sparse_counts_col_index.npy ./optimus/sparse_counts_col_index.npy\n",
    "gsutil cp gs://broad-dsde-mint-dev-cromwell-execution/cromwell-executions/TestOptimusScientific/fd674a6d-373f-4d3f-9d17-ed9b4de58535/call-target/Optimus/36b08252-3b0d-4998-bf99-05d779e5599f/call-MergeCountFiles/sparse_counts_row_index.npy ./optimus/sparse_counts_row_index.npy\n",
    "\n",
    "gsutil cp gs://broad-dsde-mint-dev-cromwell-execution/cromwell-executions/cellranger/92e66952-18b3-4f16-a95d-2d6eb15c2081/call-CellRanger/synthetic/outs/raw_gene_bc_matrices_h5.h5 ./cell_ranger/raw_gene_bc_matrices_h5.h5"
   ]
  },
  {
   "cell_type": "code",
   "execution_count": 20,
   "metadata": {},
   "outputs": [],
   "source": [
    "optimus_matrix = 'optimus/sparse_counts'\n",
    "op_cm = sctools.count.CountMatrix.load(optimus_matrix)\n",
    "\n",
    "GeneBCMatrix = collections.namedtuple('GeneBCMatrix', ['gene_ids', 'gene_names', 'barcodes', 'matrix'])\n",
    " \n",
    "def get_matrix_from_h5(filename, genome):\n",
    "    with tables.open_file(filename, 'r') as f:\n",
    "        try:\n",
    "            group = f.get_node(f.root, genome)\n",
    "        except tables.NoSuchNodeError:\n",
    "            print(\"That genome does not exist in this file.\")\n",
    "            return None\n",
    "        gene_ids = getattr(group, 'genes').read()\n",
    "        gene_names = getattr(group, 'gene_names').read()\n",
    "        barcodes = getattr(group, 'barcodes').read()\n",
    "        data = getattr(group, 'data').read()\n",
    "        indices = getattr(group, 'indices').read()\n",
    "        indptr = getattr(group, 'indptr').read()\n",
    "        shape = getattr(group, 'shape').read()\n",
    "        matrix = sp_sparse.csc_matrix((data, indices, indptr), shape=shape)\n",
    "        return GeneBCMatrix(gene_ids, gene_names, barcodes, matrix)\n",
    " \n",
    "filtered_matrix_h5 = \"cell_ranger/raw_gene_bc_matrices_h5.h5\"\n",
    "genome = \"GRCh38\"\n",
    "cr_cm = get_matrix_from_h5(filtered_matrix_h5, genome)"
   ]
  },
  {
   "cell_type": "code",
   "execution_count": 22,
   "metadata": {},
   "outputs": [
    {
     "name": "stdout",
     "output_type": "stream",
     "text": [
      "cell ranger total counts: 246700\n",
      "optimus total counts: 734\n"
     ]
    }
   ],
   "source": [
    "print(f'cell ranger total counts: {cr_cm.matrix.sum()}')\n",
    "print(f'optimus total counts: {op_cm.matrix.sum()}')"
   ]
  },
  {
   "cell_type": "markdown",
   "metadata": {},
   "source": [
    "# Bam Comparisons"
   ]
  },
  {
   "cell_type": "markdown",
   "metadata": {},
   "source": [
    "We have an obvious problem somewhere before the count matrix. Examine the two .bam files for tag disparities. If they exist, that will tell us which method is causing the problem by isolating the offending tag. If there are _not_ tag disparities, it tells us a tag consumer is the problem. \n",
    "\n",
    "We have a bit of data going into this: we exchanged the count matrix construction method and the problem persisted, which suggests that an upstream module is likely the problem. "
   ]
  },
  {
   "cell_type": "code",
   "execution_count": 3,
   "metadata": {},
   "outputs": [],
   "source": [
    "# identify the two bam files\n",
    "op_bam = 'optimus_out/merged.bam'\n",
    "cr_bam = 'cellranger_out/cellranger_results/possorted_genome_bam.bam'"
   ]
  },
  {
   "cell_type": "code",
   "execution_count": 10,
   "metadata": {},
   "outputs": [],
   "source": [
    "op = pysam.AlignmentFile(op_bam)\n",
    "cr = pysam.AlignmentFile(cr_bam)"
   ]
  },
  {
   "cell_type": "markdown",
   "metadata": {},
   "source": [
    "These bams should have alignments to chromosome 1 and 2"
   ]
  },
  {
   "cell_type": "code",
   "execution_count": 24,
   "metadata": {},
   "outputs": [
    {
     "name": "stdout",
     "output_type": "stream",
     "text": [
      "Optimus Chromosome 1 Records: 11833\n",
      "Cellranger Chromosome 1 Records: 1170508\n"
     ]
    }
   ],
   "source": [
    "cr_chr1_records = sum(1 for _ in cr.fetch(contig='1'))\n",
    "op_chr1_records = sum(1 for _ in op.fetch(contig='1'))\n",
    "print(f'Optimus Chromosome 1 Records: {op_chr1_records}')\n",
    "print(f'Cellranger Chromosome 1 Records: {cr_chr1_records}')"
   ]
  },
  {
   "cell_type": "code",
   "execution_count": 23,
   "metadata": {},
   "outputs": [
    {
     "name": "stdout",
     "output_type": "stream",
     "text": [
      "Optimus Chromosome 2 Records: 0\n",
      "Cellranger Chromosome 2 Records: 134053\n"
     ]
    }
   ],
   "source": [
    "cr_chr2_records = sum(1 for _ in cr.fetch(contig='2'))\n",
    "op_chr2_records = sum(1 for _ in op.fetch(contig='2'))\n",
    "print(f'Optimus Chromosome 2 Records: {op_chr2_records}')\n",
    "print(f'Cellranger Chromosome 2 Records: {cr_chr2_records}')"
   ]
  },
  {
   "cell_type": "code",
   "execution_count": 26,
   "metadata": {},
   "outputs": [
    {
     "name": "stdout",
     "output_type": "stream",
     "text": [
      "Optimus unmapped records: 1122451\n",
      "Cellranger unmapped records: 134321\n"
     ]
    }
   ],
   "source": [
    "cr_unmapped_records = sum(1 for record in cr if record.is_unmapped)\n",
    "op_unmapped_records = sum(1 for record in op if record.is_unmapped)\n",
    "print(f'Optimus unmapped records: {op_unmapped_records}')\n",
    "print(f'Cellranger unmapped records: {cr_unmapped_records}')"
   ]
  },
  {
   "cell_type": "markdown",
   "metadata": {},
   "source": [
    "This suggests the problem is alignment. Find the parameters that both methods are using. "
   ]
  },
  {
   "cell_type": "markdown",
   "metadata": {},
   "source": [
    "Optimus:\n",
    "```bash\n",
    "    STAR \\\n",
    "      --runMode alignReads \\\n",
    "      --runThreadN ${cpu} \\\n",
    "      --genomeDir genome_reference \\\n",
    "      --readFilesIn ${bam_input} \\\n",
    "      --outSAMtype BAM Unsorted \\\n",
    "      --outSAMattributes All \\\n",
    "      --outFilterMultimapNmax 1 \\\n",
    "      --outSAMunmapped Within \\\n",
    "      --outSAMprimaryFlag AllBestScore \\\n",
    "      --readFilesType SAM SE \\\n",
    "      --readFilesCommand samtools view -h \\\n",
    "      --runRNGseed 777\n",
    "```\n",
    "\n",
    "Cellranger:\n",
    "```python\n",
    "    'STAR', \n",
    "    '--genomeDir', self.reference_star_path,          # we use the same reference\n",
    "    '--readFilesIn', read1_fastq_fn, read2_fastq_fn,  # fastq inputs\n",
    "    '--outSAMmultNmax', -1,                           # default\n",
    "    '--runThreadN', str(threads),\n",
    "    '--readNameSeparator', 'space',\n",
    "    '--outSAMunmapped', 'Within',\n",
    "    '--outSAMtype', 'SAM',\n",
    "    '--outStd', 'SAM',\n",
    "    '--outSAMorder', 'PairedKeepInputOrder',          # for use with runThreadN > 1\n",
    "    ```\n",
    "\n",
    "Proposed matching arguments: \n",
    "```bash\n",
    "    STAR \\\n",
    "      --runMode alignReads \\\n",
    "      --runThreadN ${cpu} \\  \n",
    "      --genomeDir genome_reference \\\n",
    "      --readFilesIn ${bam_input} \\\n",
    "      --outSAMtype BAM Unsorted \\\n",
    "      --outSAMattributes All \\\n",
    "      --outSAMunmapped Within \\\n",
    "      --readFilesType SAM SE \\\n",
    "      --readFilesCommand samtools view -h \\\n",
    "      --runRNGseed 777\n",
    "```\n"
   ]
  },
  {
   "cell_type": "markdown",
   "metadata": {},
   "source": [
    "At this point I reran optimus with updated parameters"
   ]
  },
  {
   "cell_type": "code",
   "execution_count": 4,
   "metadata": {},
   "outputs": [
    {
     "name": "stderr",
     "output_type": "stream",
     "text": [
      "Copying gs://broad-dsde-mint-dev-cromwell-execution/cromwell-executions/cellranger/92e66952-18b3-4f16-a95d-2d6eb15c2081/call-CellRanger/synthetic/outs/possorted_genome_bam.bam...\n",
      "/ [0 files][    0.0 B/188.9 MiB]                                                \r",
      "-\r",
      "- [0 files][ 18.1 MiB/188.9 MiB]                                                \r",
      "\\\r",
      "|\r",
      "| [0 files][ 51.8 MiB/188.9 MiB]                                                \r",
      "/\r",
      "/ [0 files][ 89.0 MiB/188.9 MiB]                                                \r",
      "-\r",
      "\\\r",
      "\\ [0 files][127.9 MiB/188.9 MiB]                                                \r",
      "|\r",
      "/\r",
      "/ [0 files][146.8 MiB/188.9 MiB]                                                \r",
      "-\r",
      "- [0 files][158.1 MiB/188.9 MiB]                                                \r",
      "\\\r",
      "|\r",
      "| [0 files][164.1 MiB/188.9 MiB]                                                \r",
      "/\r",
      "-\r",
      "- [0 files][165.6 MiB/188.9 MiB]                                                \r",
      "\\\r",
      "|\r",
      "| [0 files][166.1 MiB/188.9 MiB]                                                \r",
      "/\r",
      "/ [0 files][166.6 MiB/188.9 MiB]  792.3 KiB/s                                   \r",
      "-\r",
      "- [0 files][167.2 MiB/188.9 MiB]  380.2 KiB/s                                   \r",
      "\\\r",
      "\\ [0 files][168.2 MiB/188.9 MiB]  579.5 KiB/s                                   \r",
      "|\r",
      "/\r",
      "/ [0 files][169.0 MiB/188.9 MiB]  617.8 KiB/s                                   \r",
      "-\r",
      "- [0 files][169.7 MiB/188.9 MiB]  637.8 KiB/s                                   \r",
      "\\\r",
      "|\r",
      "| [0 files][170.5 MiB/188.9 MiB]  648.4 KiB/s                                   \r",
      "/\r",
      "-\r",
      "- [0 files][172.1 MiB/188.9 MiB]  805.9 KiB/s                                   \r",
      "\\\r",
      "\\ [0 files][172.8 MiB/188.9 MiB]  795.8 KiB/s                                   \r",
      "|\r",
      "/\r",
      "/ [0 files][173.3 MiB/188.9 MiB]  755.2 KiB/s                                   \r",
      "-\r",
      "- [0 files][173.9 MiB/188.9 MiB]  741.4 KiB/s                                   \r",
      "\\\r",
      "\\ [0 files][174.6 MiB/188.9 MiB]  590.2 KiB/s                                   \r",
      "|\r",
      "| [0 files][175.1 MiB/188.9 MiB]  537.4 KiB/s                                   \r",
      "/\r",
      "-\r",
      "- [0 files][175.9 MiB/188.9 MiB]  567.2 KiB/s                                   \r",
      "\\\r",
      "|\r",
      "| [0 files][177.2 MiB/188.9 MiB]  725.4 KiB/s                                   \r",
      "/\r",
      "/ [0 files][178.5 MiB/188.9 MiB]  834.2 KiB/s                                   \r",
      "-\r",
      "\\\r",
      "\\ [0 files][179.3 MiB/188.9 MiB]  874.9 KiB/s                                   \r",
      "|\r",
      "| [0 files][180.0 MiB/188.9 MiB]  839.2 KiB/s                                   \r",
      "/\r",
      "-\r",
      "- [0 files][180.6 MiB/188.9 MiB]  694.4 KiB/s                                   \r",
      "\\\r",
      "\\ [0 files][181.3 MiB/188.9 MiB]  548.8 KiB/s                                   \r",
      "|\r",
      "/\r",
      "/ [0 files][182.1 MiB/188.9 MiB]  540.3 KiB/s                                   \r",
      "-\r",
      "- [0 files][183.1 MiB/188.9 MiB]  656.9 KiB/s                                   \r",
      "\\\r",
      "|\r",
      "| [0 files][183.9 MiB/188.9 MiB]  708.2 KiB/s                                   \r",
      "/\r",
      "/ [0 files][184.7 MiB/188.9 MiB]  712.6 KiB/s                                   \r",
      "-\r",
      "- [0 files][185.2 MiB/188.9 MiB]  680.4 KiB/s                                   \r",
      "\\\r",
      "|\r",
      "| [0 files][186.0 MiB/188.9 MiB]  544.3 KiB/s                                   \r",
      "/\r",
      "-\r",
      "- [0 files][186.7 MiB/188.9 MiB]  485.7 KiB/s                                   \r",
      "\\\r",
      "|\r",
      "| [0 files][187.5 MiB/188.9 MiB]  522.4 KiB/s                                   \r",
      "/\r",
      "/ [0 files][188.3 MiB/188.9 MiB]  561.4 KiB/s                                   \r",
      "-\r",
      "\\\r",
      "\\ [1 files][188.9 MiB/188.9 MiB]  640.1 KiB/s                                   \r\n",
      "Operation completed over 1 objects/188.9 MiB.                                    \n",
      "Copying gs://broad-dsde-mint-dev-cromwell-execution/cromwell-executions/cellranger/92e66952-18b3-4f16-a95d-2d6eb15c2081/call-CellRanger/synthetic/outs/possorted_genome_bam.bam.bai...\n",
      "/ [0 files][    0.0 B/  1.6 MiB]                                                \r",
      "-\r",
      "- [1 files][  1.6 MiB/  1.6 MiB]                                                \r\n",
      "Operation completed over 1 objects/1.6 MiB.                                      \n",
      "Copying gs://broad-dsde-mint-dev-cromwell-execution/cromwell-executions/TestOptimusScientific/fd674a6d-373f-4d3f-9d17-ed9b4de58535/call-target/Optimus/36b08252-3b0d-4998-bf99-05d779e5599f/call-MergeSorted/merged.bam...\n",
      "/ [0 files][    0.0 B/202.0 MiB]                                                \r",
      "-\r",
      "- [0 files][ 17.0 MiB/202.0 MiB]                                                \r",
      "\\\r",
      "|\r",
      "| [0 files][ 56.5 MiB/202.0 MiB]                                                \r",
      "/\r",
      "/ [0 files][ 94.6 MiB/202.0 MiB]                                                \r",
      "-\r",
      "\\\r",
      "\\ [0 files][114.7 MiB/202.0 MiB]                                                \r",
      "|\r",
      "/\r",
      "/ [0 files][118.9 MiB/202.0 MiB]                                                \r",
      "-\r",
      "- [0 files][120.4 MiB/202.0 MiB]                                                \r",
      "\\\r",
      "|\r",
      "| [0 files][121.7 MiB/202.0 MiB]                                                \r",
      "/\r",
      "/ [0 files][123.2 MiB/202.0 MiB]                                                \r",
      "-\r",
      "\\\r",
      "\\ [0 files][124.5 MiB/202.0 MiB]                                                \r",
      "|\r",
      "/\r",
      "/ [0 files][125.8 MiB/202.0 MiB]    1.1 MiB/s                                   \r",
      "-\r",
      "- [0 files][127.1 MiB/202.0 MiB]    1.1 MiB/s                                   \r",
      "\\\r",
      "|\r",
      "| [0 files][128.1 MiB/202.0 MiB]    1.0 MiB/s                                   \r",
      "/\r",
      "-\r",
      "- [0 files][131.5 MiB/202.0 MiB]    1.5 MiB/s                                   \r",
      "\\\r",
      "\\ [0 files][135.4 MiB/202.0 MiB]    2.1 MiB/s                                   \r",
      "|\r",
      "/\r",
      "/ [0 files][138.5 MiB/202.0 MiB]    2.4 MiB/s                                   \r",
      "-\r",
      "- [0 files][141.8 MiB/202.0 MiB]    2.9 MiB/s                                   \r",
      "\\\r",
      "|\r",
      "| [0 files][143.1 MiB/202.0 MiB]    2.7 MiB/s                                   \r",
      "/\r",
      "/ [0 files][144.6 MiB/202.0 MiB]    1.9 MiB/s                                   \r",
      "-\r",
      "\\\r",
      "\\ [0 files][145.9 MiB/202.0 MiB]    1.6 MiB/s                                   \r",
      "|\r",
      "| [0 files][147.2 MiB/202.0 MiB]    1.2 MiB/s                                   \r",
      "/\r",
      "-\r",
      "- [0 files][149.0 MiB/202.0 MiB]    1.3 MiB/s                                   \r",
      "\\\r",
      "|\r",
      "| [0 files][151.3 MiB/202.0 MiB]    1.5 MiB/s                                   \r",
      "/\r",
      "/ [0 files][154.4 MiB/202.0 MiB]    1.9 MiB/s                                   \r",
      "-\r",
      "- [0 files][155.7 MiB/202.0 MiB]    1.9 MiB/s                                   \r",
      "\\\r",
      "|\r",
      "| [0 files][157.0 MiB/202.0 MiB]    1.8 MiB/s                                   \r",
      "/\r",
      "-\r",
      "- [0 files][159.1 MiB/202.0 MiB]    1.7 MiB/s                                   \r",
      "\\\r",
      "\\ [0 files][161.9 MiB/202.0 MiB]    1.8 MiB/s                                   \r",
      "|\r",
      "| [0 files][163.5 MiB/202.0 MiB]    1.7 MiB/s                                   \r",
      "/\r",
      "-\r",
      "- [0 files][165.2 MiB/202.0 MiB]    1.7 MiB/s                                   \r",
      "\\\r",
      "\\ [0 files][165.7 MiB/202.0 MiB]    1.5 MiB/s                                   \r",
      "|\r",
      "/\r",
      "/ [0 files][166.2 MiB/202.0 MiB]  915.9 KiB/s                                   \r",
      "-\r",
      "- [0 files][167.2 MiB/202.0 MiB]  725.5 KiB/s                                   \r",
      "\\\r",
      "|\r",
      "| [0 files][168.5 MiB/202.0 MiB]  724.6 KiB/s                                   \r",
      "/\r",
      "-\r",
      "- [0 files][170.6 MiB/202.0 MiB]    1.1 MiB/s                                   \r",
      "\\\r",
      "\\ [0 files][171.4 MiB/202.0 MiB]   1007 KiB/s                                   \r",
      "|\r",
      "/\r",
      "/ [0 files][172.4 MiB/202.0 MiB]   1008 KiB/s                                   \r",
      "-\r",
      "- [0 files][172.9 MiB/202.0 MiB]  598.7 KiB/s                                   \r",
      "\\\r",
      "|\r",
      "| [0 files][173.7 MiB/202.0 MiB]  582.7 KiB/s                                   \r",
      "/\r",
      "/ [0 files][174.5 MiB/202.0 MiB]  534.0 KiB/s                                   \r",
      "-\r",
      "- [0 files][175.2 MiB/202.0 MiB]  566.2 KiB/s                                   \r",
      "\\\r",
      "|\r",
      "| [0 files][176.0 MiB/202.0 MiB]  590.2 KiB/s                                   \r",
      "/\r",
      "/ [0 files][176.8 MiB/202.0 MiB]  641.1 KiB/s                                   \r",
      "-\r",
      "- [0 files][177.3 MiB/202.0 MiB]  574.1 KiB/s                                   \r",
      "\\\r",
      "|\r",
      "| [0 files][178.1 MiB/202.0 MiB]  565.6 KiB/s                                   \r",
      "/\r",
      "/ [0 files][178.8 MiB/202.0 MiB]  560.4 KiB/s                                   \r",
      "-\r",
      "- [0 files][179.4 MiB/202.0 MiB]  543.8 KiB/s                                   \r",
      "\\\r",
      "|\r",
      "| [0 files][180.1 MiB/202.0 MiB]  587.5 KiB/s                                   \r",
      "/\r",
      "/ [0 files][180.9 MiB/202.0 MiB]  539.9 KiB/s                                   \r",
      "-\r",
      "\\\r",
      "\\ [0 files][181.7 MiB/202.0 MiB]  536.2 KiB/s                                   \r",
      "|\r",
      "| [0 files][183.2 MiB/202.0 MiB]  727.0 KiB/s                                   \r",
      "/\r",
      "-\r",
      "- [0 files][186.1 MiB/202.0 MiB]    1.1 MiB/s                                   \r",
      "\\\r",
      "\\ [0 files][186.6 MiB/202.0 MiB]    1.2 MiB/s                                   \r",
      "|\r",
      "| [0 files][187.1 MiB/202.0 MiB]    1.2 MiB/s                                   \r",
      "/\r",
      "-\r",
      "- [0 files][187.9 MiB/202.0 MiB]    1.0 MiB/s                                   \r",
      "\\\r",
      "\\ [0 files][188.4 MiB/202.0 MiB]  494.7 KiB/s                                   \r",
      "|\r",
      "/\r",
      "/ [0 files][189.2 MiB/202.0 MiB]  492.7 KiB/s                                   \r",
      "-\r",
      "- [0 files][189.9 MiB/202.0 MiB]  506.9 KiB/s                                   \r",
      "\\\r",
      "|\r",
      "| [0 files][190.5 MiB/202.0 MiB]  511.6 KiB/s                                   \r",
      "/\r",
      "/ [0 files][192.3 MiB/202.0 MiB]  781.8 KiB/s                                   \r",
      "-\r",
      "\\\r",
      "\\ [1 files][202.0 MiB/202.0 MiB]    2.8 MiB/s                                   \r\n",
      "Operation completed over 1 objects/202.0 MiB.                                    \n"
     ]
    }
   ],
   "source": [
    "%%bash\n",
    "gsutil cp gs://broad-dsde-mint-dev-cromwell-execution/cromwell-executions/cellranger/92e66952-18b3-4f16-a95d-2d6eb15c2081/call-CellRanger/synthetic/outs/possorted_genome_bam.bam ./cell_ranger/possorted_genome_bam.bam\n",
    "gsutil cp gs://broad-dsde-mint-dev-cromwell-execution/cromwell-executions/cellranger/92e66952-18b3-4f16-a95d-2d6eb15c2081/call-CellRanger/synthetic/outs/possorted_genome_bam.bam.bai ./cell_ranger/possorted_genome_bam.bam.bai\n",
    "gsutil cp gs://broad-dsde-mint-dev-cromwell-execution/cromwell-executions/TestOptimusScientific/fd674a6d-373f-4d3f-9d17-ed9b4de58535/call-target/Optimus/36b08252-3b0d-4998-bf99-05d779e5599f/call-MergeSorted/merged.bam ./optimus/merged.bam\n",
    "samtools index optimus/merged.bam"
   ]
  },
  {
   "cell_type": "code",
   "execution_count": 48,
   "metadata": {},
   "outputs": [],
   "source": [
    "op_bam = 'optimus/merged.bam'\n",
    "op = pysam.AlignmentFile(op_bam)\n",
    "\n",
    "cr_bam = 'cell_ranger/possorted_genome_bam.bam'\n",
    "cr = pysam.AlignmentFile(cr_bam)"
   ]
  },
  {
   "cell_type": "code",
   "execution_count": 13,
   "metadata": {},
   "outputs": [
    {
     "name": "stdout",
     "output_type": "stream",
     "text": [
      "3055752\n",
      "3055752\n"
     ]
    }
   ],
   "source": [
    "print(sum(1 for _ in op))\n",
    "print(sum(1 for _ in cr))"
   ]
  },
  {
   "cell_type": "code",
   "execution_count": 15,
   "metadata": {},
   "outputs": [
    {
     "name": "stdout",
     "output_type": "stream",
     "text": [
      "Optimus Chromosome 1 Records: 1170508\n",
      "Cell Ranger Chromosome 1 Records: 1170508\n"
     ]
    }
   ],
   "source": [
    "op_chr1_records = sum(1 for _ in op.fetch(contig='1'))\n",
    "print(f'Optimus Chromosome 1 Records: {op_chr1_records}')\n",
    "\n",
    "cr_chr1_records = sum(1 for _ in cr.fetch(contig='1'))\n",
    "print(f'Cell Ranger Chromosome 1 Records: {cr_chr1_records}')"
   ]
  },
  {
   "cell_type": "code",
   "execution_count": 16,
   "metadata": {},
   "outputs": [
    {
     "name": "stdout",
     "output_type": "stream",
     "text": [
      "Optimus Chromosome 1 Records: 134053\n",
      "Cell Ranger Chromosome 1 Records: 134053\n"
     ]
    }
   ],
   "source": [
    "op_chr2_records = sum(1 for _ in op.fetch(contig='2'))\n",
    "print(f'Optimus Chromosome 1 Records: {op_chr2_records}')\n",
    "\n",
    "cr_chr2_records = sum(1 for _ in cr.fetch(contig='2'))\n",
    "print(f'Cell Ranger Chromosome 1 Records: {cr_chr2_records}')"
   ]
  },
  {
   "cell_type": "markdown",
   "metadata": {},
   "source": [
    "# Compare tag abundances"
   ]
  },
  {
   "cell_type": "code",
   "execution_count": 49,
   "metadata": {},
   "outputs": [],
   "source": [
    "# pile up number of times each tag is seen\n",
    "cr_counter = Counter()\n",
    "for record in cr:\n",
    "    for (k, v) in record.get_tags():\n",
    "        cr_counter[k] += 1"
   ]
  },
  {
   "cell_type": "code",
   "execution_count": 50,
   "metadata": {},
   "outputs": [],
   "source": [
    "# pile up number of times each tag is seen\n",
    "op_counter = Counter()\n",
    "for record in op:\n",
    "    for (k, v) in record.get_tags():\n",
    "        op_counter[k] += 1"
   ]
  },
  {
   "cell_type": "code",
   "execution_count": 51,
   "metadata": {},
   "outputs": [
    {
     "data": {
      "text/plain": [
       "Counter({'NH': 3055752,\n",
       "         'HI': 3055752,\n",
       "         'AS': 3055752,\n",
       "         'nM': 3055752,\n",
       "         'RE': 2921431,\n",
       "         'CR': 3055752,\n",
       "         'CY': 3055752,\n",
       "         'CB': 3008830,\n",
       "         'UR': 3055752,\n",
       "         'UY': 3055752,\n",
       "         'UB': 3055024,\n",
       "         'BC': 3055752,\n",
       "         'QT': 3055752,\n",
       "         'RG': 3055752,\n",
       "         'MM': 1573766,\n",
       "         'TX': 755521,\n",
       "         'GX': 755521,\n",
       "         'GN': 755521,\n",
       "         'uT': 134321})"
      ]
     },
     "execution_count": 51,
     "metadata": {},
     "output_type": "execute_result"
    }
   ],
   "source": [
    "cr_counter"
   ]
  },
  {
   "cell_type": "code",
   "execution_count": null,
   "metadata": {},
   "outputs": [],
   "source": [
    "op_bam = 'optimus/merged.bam'\n",
    "op = pysam.AlignmentFile(op_bam)\n",
    "\n",
    "cr_bam = 'cell_ranger/possorted_genome_bam.bam'\n",
    "cr = pysam.AlignmentFile(cr_bam)"
   ]
  },
  {
   "cell_type": "code",
   "execution_count": 54,
   "metadata": {},
   "outputs": [
    {
     "name": "stdout",
     "output_type": "stream",
     "text": [
      "keys in cell ranger and not in optimus\n"
     ]
    },
    {
     "data": {
      "text/plain": [
       "{'BC', 'GN', 'GX', 'MM', 'QT', 'RE', 'TX'}"
      ]
     },
     "execution_count": 54,
     "metadata": {},
     "output_type": "execute_result"
    }
   ],
   "source": [
    "print('keys in cell ranger and not in optimus')\n",
    "set(cr_counter.keys()).difference(op_counter.keys())"
   ]
  },
  {
   "cell_type": "code",
   "execution_count": 55,
   "metadata": {},
   "outputs": [
    {
     "name": "stdout",
     "output_type": "stream",
     "text": [
      "keys in optimus and not in cell ranger\n"
     ]
    },
    {
     "data": {
      "text/plain": [
       "{'GE', 'GS', 'MD', 'NM', 'XF', 'jI', 'jM'}"
      ]
     },
     "execution_count": 55,
     "metadata": {},
     "output_type": "execute_result"
    }
   ],
   "source": [
    "print('keys in optimus and not in cell ranger')\n",
    "set(op_counter.keys()).difference(cr_counter.keys())"
   ]
  },
  {
   "cell_type": "code",
   "execution_count": 56,
   "metadata": {},
   "outputs": [
    {
     "name": "stdout",
     "output_type": "stream",
     "text": [
      "difference in key abundance for keys in both pipelines\n",
      "nM, optimus - cell ranger: 0\n",
      "UB, optimus - cell ranger: 728\n",
      "uT, optimus - cell ranger: 0\n",
      "CY, optimus - cell ranger: 0\n",
      "CR, optimus - cell ranger: 0\n",
      "CB, optimus - cell ranger: 3569\n",
      "UY, optimus - cell ranger: 0\n",
      "UR, optimus - cell ranger: 0\n",
      "RG, optimus - cell ranger: 0\n",
      "AS, optimus - cell ranger: 0\n",
      "NH, optimus - cell ranger: 0\n",
      "HI, optimus - cell ranger: 0\n"
     ]
    }
   ],
   "source": [
    "print('difference in key abundance for keys in both pipelines')\n",
    "intersection = set(op_counter.keys()).intersection(cr_counter.keys())\n",
    "for k in intersection:\n",
    "    print(f'{k}, optimus - cell ranger: {op_counter[k] - cr_counter[k]}')"
   ]
  },
  {
   "cell_type": "markdown",
   "metadata": {},
   "source": [
    "Given the magnitude of difference in the count matrices, intersecting keys cannot be driving the discrepancy we observe, although non-intersecting keys could. "
   ]
  },
  {
   "cell_type": "markdown",
   "metadata": {},
   "source": [
    "# Examine differences in flags"
   ]
  },
  {
   "cell_type": "code",
   "execution_count": 72,
   "metadata": {},
   "outputs": [],
   "source": [
    "op_bam = 'optimus/merged.bam'\n",
    "op = pysam.AlignmentFile(op_bam)\n",
    "\n",
    "cr_bam = 'cell_ranger/possorted_genome_bam.bam'\n",
    "cr = pysam.AlignmentFile(cr_bam)"
   ]
  },
  {
   "cell_type": "code",
   "execution_count": 75,
   "metadata": {},
   "outputs": [],
   "source": [
    "cr_flag_counter = Counter()\n",
    "for record in cr:\n",
    "    for i, val in enumerate(bin(record.flag)[2:]):\n",
    "        if val == '1':\n",
    "            cr_flag_counter[i] += 1"
   ]
  },
  {
   "cell_type": "code",
   "execution_count": 76,
   "metadata": {},
   "outputs": [],
   "source": [
    "op_flag_counter = Counter()\n",
    "for record in op:\n",
    "    for i, val in enumerate(bin(record.flag)[2:]):\n",
    "        if val == '1':\n",
    "            op_flag_counter[i] += 1"
   ]
  },
  {
   "cell_type": "code",
   "execution_count": 79,
   "metadata": {},
   "outputs": [
    {
     "data": {
      "text/plain": [
       "Counter({0: 2474789, 4: 578686, 6: 68129})"
      ]
     },
     "execution_count": 79,
     "metadata": {},
     "output_type": "execute_result"
    }
   ],
   "source": [
    "op_flag_counter"
   ]
  },
  {
   "cell_type": "code",
   "execution_count": 80,
   "metadata": {},
   "outputs": [
    {
     "data": {
      "text/plain": [
       "Counter({0: 2675400, 4: 573725, 6: 23009})"
      ]
     },
     "execution_count": 80,
     "metadata": {},
     "output_type": "execute_result"
    }
   ],
   "source": [
    "cr_flag_counter"
   ]
  },
  {
   "cell_type": "code",
   "execution_count": 81,
   "metadata": {},
   "outputs": [
    {
     "name": "stdout",
     "output_type": "stream",
     "text": [
      "difference in flag abundance for keys in both pipelines\n",
      "0, optimus - cell ranger: -200611\n",
      "4, optimus - cell ranger: 4961\n",
      "6, optimus - cell ranger: 45120\n"
     ]
    }
   ],
   "source": [
    "print('difference in flag abundance for keys in both pipelines')\n",
    "flag_intersection = set(op_flag_counter.keys()).intersection(cr_flag_counter.keys())\n",
    "for k in flag_intersection:\n",
    "    print(f'{k}, optimus - cell ranger: {op_flag_counter[k] - cr_flag_counter[k]}')"
   ]
  },
  {
   "cell_type": "markdown",
   "metadata": {},
   "source": [
    "This might be the culprit... we've got a lot fewer reads with `0` flags than CR does. Because of the way python indexes, this means the second bit (`x4`), which is \"reverse complemented\". Conversely, optimus sets the 5th and 7th bits more frequently. "
   ]
  },
  {
   "cell_type": "code",
   "execution_count": null,
   "metadata": {},
   "outputs": [],
   "source": []
  }
 ],
 "metadata": {
  "kernelspec": {
   "display_name": "Python 3",
   "language": "python",
   "name": "python3"
  },
  "language_info": {
   "codemirror_mode": {
    "name": "ipython",
    "version": 3
   },
   "file_extension": ".py",
   "mimetype": "text/x-python",
   "name": "python",
   "nbconvert_exporter": "python",
   "pygments_lexer": "ipython3",
   "version": "3.6.5"
  }
 },
 "nbformat": 4,
 "nbformat_minor": 2
}
